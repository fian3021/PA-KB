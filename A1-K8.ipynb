{
 "cells": [
  {
   "cell_type": "markdown",
   "metadata": {},
   "source": [
    "-------------------------------------------------------------------\n",
    "# \"Klasifikasi Kucing Dan Kelinci\"\n",
    "\n",
    "# K1_A8\n",
    "## Al Fiana Nur Priyanti ( 2109106022 )\n",
    "## Shafira Octafia ( 2109106023 )\n",
    "--------------------------------------------------------------------"
   ]
  },
  {
   "cell_type": "markdown",
   "metadata": {},
   "source": [
    "---------------------------------\n",
    "# IMPORT LIBRARY\n"
   ]
  },
  {
   "cell_type": "code",
<<<<<<< HEAD
   "execution_count": 16,
=======
<<<<<<< Updated upstream
   "execution_count": 9,
=======
   "execution_count": 33,
>>>>>>> Stashed changes
>>>>>>> 97b8261295b9a5c09f70379fad9c6ce41fe81ff0
   "metadata": {},
   "outputs": [],
   "source": [
    "import pandas as pd\n",
    "import numpy as np\n",
    "import tensorflow as tf\n",
    "from keras import layers\n",
    "from tensorflow.keras.preprocessing import image_dataset_from_directory\n"
   ]
  },
  {
   "cell_type": "markdown",
   "metadata": {},
   "source": [
    "----------------------------\n",
    "# Data Collecting"
   ]
  },
  {
   "cell_type": "code",
<<<<<<< HEAD
   "execution_count": 17,
=======
<<<<<<< Updated upstream
   "execution_count": 10,
=======
   "execution_count": 41,
>>>>>>> Stashed changes
>>>>>>> 97b8261295b9a5c09f70379fad9c6ce41fe81ff0
   "metadata": {},
   "outputs": [
    {
     "name": "stdout",
     "output_type": "stream",
     "text": [
      "Found 2029 files belonging to 2 classes.\n",
      "Using 1827 files for training.\n"
     ]
    }
   ],
   "source": [
    "dataset_train = image_dataset_from_directory(\n",
    "    'files/',\n",
    "    labels = 'inferred',\n",
    "    label_mode = 'int',\n",
    "    class_names = ['Cat', 'Rabbit'],\n",
    "    image_size = ( 80, 80 ),\n",
    "    shuffle = True,\n",
    "    seed = 47,\n",
    "    validation_split = 0.1, # 10% Data untuk validasi\n",
    "    subset = 'training'\n",
    "    \n",
    ")"
   ]
  },
  {
   "cell_type": "markdown",
   "metadata": {},
   "source": [
    "--------------------------------------\n",
    "# Data Preprocessing\n"
   ]
  },
  {
   "cell_type": "markdown",
   "metadata": {},
   "source": [
    "## Preview Images"
   ]
  },
  {
   "cell_type": "code",
<<<<<<< HEAD
   "execution_count": 18,
=======
<<<<<<< Updated upstream
   "execution_count": 11,
=======
   "execution_count": 42,
>>>>>>> Stashed changes
>>>>>>> 97b8261295b9a5c09f70379fad9c6ce41fe81ff0
   "metadata": {},
   "outputs": [],
   "source": [
    "import matplotlib.pyplot as plt \n",
    "class_names = dataset_train.class_names"
   ]
  },
  {
   "cell_type": "code",
<<<<<<< HEAD
   "execution_count": 19,
=======
<<<<<<< Updated upstream
   "execution_count": 12,
=======
   "execution_count": 43,
>>>>>>> Stashed changes
>>>>>>> 97b8261295b9a5c09f70379fad9c6ce41fe81ff0
   "metadata": {},
   "outputs": [
    {
     "data": {
      "text/plain": [
       "<Figure size 1000x1000 with 0 Axes>"
      ]
     },
     "metadata": {},
     "output_type": "display_data"
    }
   ],
   "source": [
    "plt.figure ( figsize = ( 10, 10))\n",
    "for images, labels in dataset_train.take(0):\n",
    "    for i in range (9):\n",
    "        ax = plt.subplot (3, 3, i+1) # 3 baris 3 kolom\n",
    "        plt.imshow(images[i].numpy().astype(\"uint8\"))\n",
    "        plt.title(class_names[labels[i]])\n",
    "        plt.axis('off')\n",
    "        "
   ]
  },
  {
   "cell_type": "markdown",
   "metadata": {},
   "source": [
    "-----------------------------------\n",
    "## Augmented Gambar"
   ]
  },
  {
   "cell_type": "code",
<<<<<<< HEAD
   "execution_count": 20,
=======
<<<<<<< Updated upstream
   "execution_count": 13,
=======
   "execution_count": 46,
>>>>>>> Stashed changes
>>>>>>> 97b8261295b9a5c09f70379fad9c6ce41fe81ff0
   "metadata": {},
   "outputs": [],
   "source": [
    "def augment (x,y):\n",
    "    image = tf.image.random_brightness (x,max_delta = 0.5)\n",
    "    return image, y"
   ]
  },
  {
   "cell_type": "code",
<<<<<<< HEAD
   "execution_count": 21,
=======
<<<<<<< Updated upstream
   "execution_count": 14,
=======
   "execution_count": 47,
>>>>>>> Stashed changes
>>>>>>> 97b8261295b9a5c09f70379fad9c6ce41fe81ff0
   "metadata": {},
   "outputs": [],
   "source": [
    "dataset_train = dataset_train.map(augment)"
   ]
  },
  {
   "cell_type": "code",
<<<<<<< HEAD
   "execution_count": 22,
=======
<<<<<<< Updated upstream
   "execution_count": 15,
=======
   "execution_count": 48,
>>>>>>> Stashed changes
>>>>>>> 97b8261295b9a5c09f70379fad9c6ce41fe81ff0
   "metadata": {},
   "outputs": [],
   "source": [
    "from tensorflow import keras\n",
    "\n",
    "model = keras.Sequential(\n",
    "    [\n",
    "        # Input\n",
    "        layers.Input((80,80,3)),\n",
    "\n",
    "        # Hidden Layer\n",
    "        layers.Conv2D(16,3),\n",
    "        layers.Conv2D(32,3),\n",
    "        layers.MaxPool2D(),\n",
    "        layers.Flatten(),\n",
    "\n",
    "        # Output Layer\n",
    "        layers.Dense(2) #Output layer mengikuti jumlah labelnya\n",
    "    ]\n",
    ")\n",
    "\n",
    "model.compile(\n",
    "    optimizer = 'adam',\n",
    "    loss = keras.losses.SparseCategoricalCrossentropy(from_logits=True),\n",
    "    metrics = [\"accuracy\"]\n",
    ")"
   ]
  },
  {
   "cell_type": "code",
<<<<<<< HEAD
   "execution_count": 23,
=======
<<<<<<< Updated upstream
   "execution_count": 8,
=======
   "execution_count": 49,
>>>>>>> Stashed changes
>>>>>>> 97b8261295b9a5c09f70379fad9c6ce41fe81ff0
   "metadata": {},
   "outputs": [
    {
     "name": "stdout",
     "output_type": "stream",
     "text": [
      "Epoch 1/10\n",
<<<<<<< HEAD
      "58/58 [==============================] - 6s 84ms/step - loss: 97.5806 - accuracy: 0.6546\n",
=======
<<<<<<< Updated upstream
      "58/58 [==============================] - 15s 225ms/step - loss: 193.8035 - accuracy: 0.6207\n",
>>>>>>> 97b8261295b9a5c09f70379fad9c6ce41fe81ff0
      "Epoch 2/10\n",
      "58/58 [==============================] - 6s 97ms/step - loss: 5.9483 - accuracy: 0.8407\n",
      "Epoch 3/10\n",
      "58/58 [==============================] - 5s 82ms/step - loss: 2.4539 - accuracy: 0.8905\n",
      "Epoch 4/10\n",
      "58/58 [==============================] - 5s 82ms/step - loss: 1.6125 - accuracy: 0.9223\n",
      "Epoch 5/10\n",
      "58/58 [==============================] - 5s 80ms/step - loss: 1.7043 - accuracy: 0.9365\n",
      "Epoch 6/10\n",
      "58/58 [==============================] - 5s 80ms/step - loss: 1.8048 - accuracy: 0.9299\n",
      "Epoch 7/10\n",
      "58/58 [==============================] - 5s 80ms/step - loss: 0.5987 - accuracy: 0.9732\n",
      "Epoch 8/10\n",
      "58/58 [==============================] - 5s 84ms/step - loss: 0.3105 - accuracy: 0.9797\n",
      "Epoch 9/10\n",
      "58/58 [==============================] - 6s 96ms/step - loss: 0.4137 - accuracy: 0.9776\n",
      "Epoch 10/10\n",
<<<<<<< HEAD
      "58/58 [==============================] - 6s 109ms/step - loss: 0.5495 - accuracy: 0.9704\n"
=======
      "58/58 [==============================] - 13s 226ms/step - loss: 0.3581 - accuracy: 0.9754\n"
=======
      "58/58 [==============================] - 10s 161ms/step - loss: 118.3146 - accuracy: 0.6590\n",
      "Epoch 2/10\n",
      "58/58 [==============================] - 11s 180ms/step - loss: 5.6840 - accuracy: 0.8292\n",
      "Epoch 3/10\n",
      "58/58 [==============================] - 10s 171ms/step - loss: 2.1749 - accuracy: 0.9009\n",
      "Epoch 4/10\n",
      "58/58 [==============================] - 10s 164ms/step - loss: 1.6014 - accuracy: 0.9217\n",
      "Epoch 5/10\n",
      "58/58 [==============================] - 10s 170ms/step - loss: 1.1527 - accuracy: 0.9381\n",
      "Epoch 6/10\n",
      "58/58 [==============================] - 10s 168ms/step - loss: 0.8211 - accuracy: 0.9475\n",
      "Epoch 7/10\n",
      "58/58 [==============================] - 10s 168ms/step - loss: 0.5479 - accuracy: 0.9661\n",
      "Epoch 8/10\n",
      "58/58 [==============================] - 10s 175ms/step - loss: 0.7350 - accuracy: 0.9573\n",
      "Epoch 9/10\n",
      "58/58 [==============================] - 10s 174ms/step - loss: 0.7365 - accuracy: 0.9639\n",
      "Epoch 10/10\n",
      "58/58 [==============================] - 10s 171ms/step - loss: 0.7314 - accuracy: 0.9677\n"
>>>>>>> Stashed changes
>>>>>>> 97b8261295b9a5c09f70379fad9c6ce41fe81ff0
     ]
    },
    {
     "data": {
      "text/plain": [
<<<<<<< HEAD
       "<keras.callbacks.History at 0x1ae7064b7c0>"
      ]
     },
     "execution_count": 23,
=======
<<<<<<< Updated upstream
       "<keras.callbacks.History at 0x1ae713dadd0>"
      ]
     },
     "execution_count": 8,
=======
       "<keras.callbacks.History at 0x1c134093760>"
      ]
     },
     "execution_count": 49,
>>>>>>> Stashed changes
>>>>>>> 97b8261295b9a5c09f70379fad9c6ce41fe81ff0
     "metadata": {},
     "output_type": "execute_result"
    }
   ],
   "source": [
    "model.fit (dataset_train, epochs = 10, verbose = 1)"
   ]
  },
  {
   "cell_type": "code",
   "execution_count": null,
   "metadata": {},
   "outputs": [],
   "source": []
  }
 ],
 "metadata": {
  "kernelspec": {
   "display_name": "Python 3 (ipykernel)",
   "language": "python",
   "name": "python3"
  },
  "language_info": {
   "codemirror_mode": {
    "name": "ipython",
    "version": 3
   },
   "file_extension": ".py",
   "mimetype": "text/x-python",
   "name": "python",
   "nbconvert_exporter": "python",
   "pygments_lexer": "ipython3",
   "version": "3.10.7"
  }
 },
 "nbformat": 4,
 "nbformat_minor": 2
}
