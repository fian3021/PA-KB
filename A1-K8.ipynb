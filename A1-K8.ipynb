{
 "cells": [
  {
   "cell_type": "markdown",
   "metadata": {},
   "source": [
    "-------------------------------------------------------------------\n",
    "# \"Klasifikasi Kucing Dan Kelinci\"\n",
    "\n",
    "# K1_A8\n",
    "## Al Fiana Nur Priyanti ( 2109106022 )\n",
    "## Shafira Octafia ( 2109106023 )\n",
    "--------------------------------------------------------------------"
   ]
  },
  {
   "cell_type": "markdown",
   "metadata": {},
   "source": [
    "---------------------------------\n",
    "# IMPORT LIBRARY\n"
   ]
  },
  {
   "cell_type": "code",
   "execution_count": 16,
   "metadata": {},
   "outputs": [],
   "source": [
    "import pandas as pd\n",
    "import numpy as np\n",
    "import tensorflow as tf\n",
    "from keras import layers\n",
    "from tensorflow.keras.preprocessing import image_dataset_from_directory\n"
   ]
  },
  {
   "cell_type": "markdown",
   "metadata": {},
   "source": [
    "----------------------------\n",
    "# Data Collecting"
   ]
  },
  {
   "cell_type": "code",
   "execution_count": 17,
   "metadata": {},
   "outputs": [
    {
     "name": "stdout",
     "output_type": "stream",
     "text": [
      "Found 2029 files belonging to 2 classes.\n",
      "Using 1827 files for training.\n"
     ]
    }
   ],
   "source": [
    "dataset_train = image_dataset_from_directory(\n",
    "    'files/',\n",
    "    labels = 'inferred',\n",
    "    label_mode = 'int',\n",
    "    class_names = ['Cat', 'Rabbit'],\n",
    "    image_size = ( 80, 80 ),\n",
    "    shuffle = True,\n",
    "    seed = 47,\n",
    "    validation_split = 0.1, # 10% Data untuk validasi\n",
    "    subset = 'training'\n",
    "    \n",
    ")"
   ]
  },
  {
   "cell_type": "markdown",
   "metadata": {},
   "source": [
    "--------------------------------------\n",
    "# Data Preprocessing\n"
   ]
  },
  {
   "cell_type": "markdown",
   "metadata": {},
   "source": [
    "## Preview Images"
   ]
  },
  {
   "cell_type": "code",
   "execution_count": 18,
   "metadata": {},
   "outputs": [],
   "source": [
    "import matplotlib.pyplot as plt \n",
    "class_names = dataset_train.class_names"
   ]
  },
  {
   "cell_type": "code",
   "execution_count": 19,
   "metadata": {},
   "outputs": [
    {
     "data": {
      "text/plain": [
       "<Figure size 1000x1000 with 0 Axes>"
      ]
     },
     "metadata": {},
     "output_type": "display_data"
    }
   ],
   "source": [
    "plt.figure ( figsize = ( 10, 10))\n",
    "for images, labels in dataset_train.take(0):\n",
    "    for i in range (9):\n",
    "        ax = plt.subplot (3, 3, i+1) # 3 baris 3 kolom\n",
    "        plt.imshow(images[i].numpy().astype(\"uint8\"))\n",
    "        plt.title(class_names[labels[i]])\n",
    "        plt.axis('off')\n",
    "        "
   ]
  },
  {
   "cell_type": "markdown",
   "metadata": {},
   "source": [
    "-----------------------------------\n",
    "## Augmented Gambar"
   ]
  },
  {
   "cell_type": "code",
   "execution_count": 20,
   "metadata": {},
   "outputs": [],
   "source": [
    "def augment (x,y):\n",
    "    image = tf.image.random_brightness (x,max_delta = 0.5)\n",
    "    return image, y"
   ]
  },
  {
   "cell_type": "code",
   "execution_count": 21,
   "metadata": {},
   "outputs": [],
   "source": [
    "dataset_train = dataset_train.map(augment)"
   ]
  },
  {
   "cell_type": "code",
   "execution_count": 22,
   "metadata": {},
   "outputs": [],
   "source": [
    "from tensorflow import keras\n",
    "\n",
    "model = keras.Sequential(\n",
    "    [\n",
    "        # Input\n",
    "        layers.Input((80,80,3)),\n",
    "\n",
    "        # Hidden Layer\n",
    "        layers.Conv2D(16,3),\n",
    "        layers.Conv2D(32,3),\n",
    "        layers.MaxPool2D(),\n",
    "        layers.Flatten(),\n",
    "\n",
    "        # Output Layer\n",
    "        layers.Dense(2) #Output layer mengikuti jumlah labelnya\n",
    "    ]\n",
    ")\n",
    "\n",
    "model.compile(\n",
    "    optimizer = 'adam',\n",
    "    loss = keras.losses.SparseCategoricalCrossentropy(from_logits=True),\n",
    "    metrics = [\"accuracy\"]\n",
    ")"
   ]
  },
  {
   "cell_type": "code",
   "execution_count": 23,
   "metadata": {},
   "outputs": [
    {
     "name": "stdout",
     "output_type": "stream",
     "text": [
      "Epoch 1/10\n",
      "58/58 [==============================] - 6s 84ms/step - loss: 97.5806 - accuracy: 0.6546\n",
      "Epoch 2/10\n",
      "58/58 [==============================] - 6s 97ms/step - loss: 5.9483 - accuracy: 0.8407\n",
      "Epoch 3/10\n",
      "58/58 [==============================] - 5s 82ms/step - loss: 2.4539 - accuracy: 0.8905\n",
      "Epoch 4/10\n",
      "58/58 [==============================] - 5s 82ms/step - loss: 1.6125 - accuracy: 0.9223\n",
      "Epoch 5/10\n",
      "58/58 [==============================] - 5s 80ms/step - loss: 1.7043 - accuracy: 0.9365\n",
      "Epoch 6/10\n",
      "58/58 [==============================] - 5s 80ms/step - loss: 1.8048 - accuracy: 0.9299\n",
      "Epoch 7/10\n",
      "58/58 [==============================] - 5s 80ms/step - loss: 0.5987 - accuracy: 0.9732\n",
      "Epoch 8/10\n",
      "58/58 [==============================] - 5s 84ms/step - loss: 0.3105 - accuracy: 0.9797\n",
      "Epoch 9/10\n",
      "58/58 [==============================] - 6s 96ms/step - loss: 0.4137 - accuracy: 0.9776\n",
      "Epoch 10/10\n",
      "58/58 [==============================] - 6s 109ms/step - loss: 0.5495 - accuracy: 0.9704\n"
     ]
    },
    {
     "data": {
      "text/plain": [
       "<keras.callbacks.History at 0x1ae7064b7c0>"
      ]
     },
     "execution_count": 23,
     "metadata": {},
     "output_type": "execute_result"
    }
   ],
   "source": [
    "model.fit (dataset_train, epochs = 10, verbose = 1)"
   ]
  },
  {
   "cell_type": "code",
   "execution_count": null,
   "metadata": {},
   "outputs": [],
   "source": []
  }
 ],
 "metadata": {
  "kernelspec": {
   "display_name": "Python 3 (ipykernel)",
   "language": "python",
   "name": "python3"
  },
  "language_info": {
   "codemirror_mode": {
    "name": "ipython",
    "version": 3
   },
   "file_extension": ".py",
   "mimetype": "text/x-python",
   "name": "python",
   "nbconvert_exporter": "python",
   "pygments_lexer": "ipython3",
   "version": "3.10.7"
  }
 },
 "nbformat": 4,
 "nbformat_minor": 2
}
