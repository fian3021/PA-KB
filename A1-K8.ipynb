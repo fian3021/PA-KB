{
 "cells": [
  {
   "cell_type": "markdown",
   "metadata": {},
   "source": [
    "-------------------------------------------------------------------\n",
    "# \"Klasifikasi Kucing Dan Kelinci\"\n",
    "\n",
    "# K1_A8\n",
    "## Al Fiana Nur Priyanti ( 2109106022 )\n",
    "## Shafira Octafia ( 2109106023 )\n",
    "--------------------------------------------------------------------"
   ]
  },
  {
   "cell_type": "markdown",
   "metadata": {},
   "source": [
    "---------------------------------\n",
    "# IMPORT LIBRARY\n"
   ]
  },
  {
   "cell_type": "code",
<<<<<<< Updated upstream
   "execution_count": 9,
=======
   "execution_count": 33,
>>>>>>> Stashed changes
   "metadata": {},
   "outputs": [],
   "source": [
    "import pandas as pd\n",
    "import numpy as np\n",
    "import tensorflow as tf\n",
    "from keras import layers\n",
    "from tensorflow.keras.preprocessing import image_dataset_from_directory\n"
   ]
  },
  {
   "cell_type": "markdown",
   "metadata": {},
   "source": [
    "----------------------------\n",
    "# Data Collecting"
   ]
  },
  {
   "cell_type": "code",
<<<<<<< Updated upstream
   "execution_count": 10,
=======
   "execution_count": 41,
>>>>>>> Stashed changes
   "metadata": {},
   "outputs": [
    {
     "name": "stdout",
     "output_type": "stream",
     "text": [
      "Found 2029 files belonging to 2 classes.\n",
      "Using 1827 files for training.\n"
     ]
    }
   ],
   "source": [
    "dataset_train = image_dataset_from_directory(\n",
    "    'files/',\n",
    "    labels = 'inferred',\n",
    "    label_mode = 'int',\n",
    "    class_names = ['Cat', 'Rabbit'],\n",
    "    image_size = ( 80, 80 ),\n",
    "    shuffle = True,\n",
    "    seed = 47,\n",
    "    validation_split = 0.1, # 10% Data untuk validasi\n",
    "    subset = 'training'\n",
    "    \n",
    ")"
   ]
  },
  {
   "cell_type": "markdown",
   "metadata": {},
   "source": [
    "--------------------------------------\n",
    "# Data Preprocessing\n"
   ]
  },
  {
   "cell_type": "markdown",
   "metadata": {},
   "source": [
    "## Preview Images"
   ]
  },
  {
   "cell_type": "code",
<<<<<<< Updated upstream
   "execution_count": 11,
=======
   "execution_count": 42,
>>>>>>> Stashed changes
   "metadata": {},
   "outputs": [],
   "source": [
    "import matplotlib.pyplot as plt \n",
    "class_names = dataset_train.class_names"
   ]
  },
  {
   "cell_type": "code",
<<<<<<< Updated upstream
   "execution_count": 12,
=======
   "execution_count": 43,
>>>>>>> Stashed changes
   "metadata": {},
   "outputs": [
    {
     "data": {
      "text/plain": [
       "<Figure size 1000x1000 with 0 Axes>"
      ]
     },
     "metadata": {},
     "output_type": "display_data"
    }
   ],
   "source": [
    "plt.figure ( figsize = ( 10, 10))\n",
    "for images, labels in dataset_train.take(0):\n",
    "    for i in range (9):\n",
    "        ax = plt.subplot (3, 3, i+1) # 3 baris 3 kolom\n",
    "        plt.imshow(images[i].numpy().astype(\"uint8\"))\n",
    "        plt.title(class_names[labels[i]])\n",
    "        plt.axis('off')\n",
    "        "
   ]
  },
  {
   "cell_type": "markdown",
   "metadata": {},
   "source": [
    "-----------------------------------\n",
    "## Augmented Gambar"
   ]
  },
  {
   "cell_type": "code",
<<<<<<< Updated upstream
   "execution_count": 13,
=======
   "execution_count": 46,
>>>>>>> Stashed changes
   "metadata": {},
   "outputs": [],
   "source": [
    "def augment (x,y):\n",
    "    image = tf.image.random_brightness (x,max_delta = 0.5)\n",
    "    return image, y"
   ]
  },
  {
   "cell_type": "code",
<<<<<<< Updated upstream
   "execution_count": 14,
=======
   "execution_count": 47,
>>>>>>> Stashed changes
   "metadata": {},
   "outputs": [],
   "source": [
    "dataset_train = dataset_train.map(augment)"
   ]
  },
  {
   "cell_type": "code",
<<<<<<< Updated upstream
   "execution_count": 15,
=======
   "execution_count": 48,
>>>>>>> Stashed changes
   "metadata": {},
   "outputs": [],
   "source": [
    "from tensorflow import keras\n",
    "\n",
    "model = keras.Sequential(\n",
    "    [\n",
    "        # Input\n",
    "        layers.Input((80,80,3)),\n",
    "\n",
    "        # Hidden Layer\n",
    "        layers.Conv2D(16,3),\n",
    "        layers.Conv2D(32,3),\n",
    "        layers.MaxPool2D(),\n",
    "        layers.Flatten(),\n",
    "\n",
    "        # Output Layer\n",
    "        layers.Dense(2) #Output layer mengikuti jumlah labelnya\n",
    "    ]\n",
    ")\n",
    "\n",
    "model.compile(\n",
    "    optimizer = 'adam',\n",
    "    loss = keras.losses.SparseCategoricalCrossentropy(from_logits=True),\n",
    "    metrics = [\"accuracy\"]\n",
    ")"
   ]
  },
  {
   "cell_type": "code",
<<<<<<< Updated upstream
   "execution_count": 8,
=======
   "execution_count": 49,
>>>>>>> Stashed changes
   "metadata": {},
   "outputs": [
    {
     "name": "stdout",
     "output_type": "stream",
     "text": [
      "Epoch 1/10\n",
<<<<<<< Updated upstream
      "58/58 [==============================] - 15s 225ms/step - loss: 193.8035 - accuracy: 0.6207\n",
      "Epoch 2/10\n",
      "58/58 [==============================] - 13s 222ms/step - loss: 6.7331 - accuracy: 0.8057\n",
      "Epoch 3/10\n",
      "58/58 [==============================] - 13s 221ms/step - loss: 2.6669 - accuracy: 0.8675\n",
      "Epoch 4/10\n",
      "58/58 [==============================] - 13s 219ms/step - loss: 4.3420 - accuracy: 0.8599\n",
      "Epoch 5/10\n",
      "58/58 [==============================] - 13s 223ms/step - loss: 1.5668 - accuracy: 0.9119\n",
      "Epoch 6/10\n",
      "58/58 [==============================] - 13s 220ms/step - loss: 0.9041 - accuracy: 0.9425\n",
      "Epoch 7/10\n",
      "58/58 [==============================] - 13s 225ms/step - loss: 0.5189 - accuracy: 0.9650\n",
      "Epoch 8/10\n",
      "58/58 [==============================] - 15s 246ms/step - loss: 0.3036 - accuracy: 0.9726\n",
      "Epoch 9/10\n",
      "58/58 [==============================] - 13s 223ms/step - loss: 0.2601 - accuracy: 0.9830\n",
      "Epoch 10/10\n",
      "58/58 [==============================] - 13s 226ms/step - loss: 0.3581 - accuracy: 0.9754\n"
=======
      "58/58 [==============================] - 10s 161ms/step - loss: 118.3146 - accuracy: 0.6590\n",
      "Epoch 2/10\n",
      "58/58 [==============================] - 11s 180ms/step - loss: 5.6840 - accuracy: 0.8292\n",
      "Epoch 3/10\n",
      "58/58 [==============================] - 10s 171ms/step - loss: 2.1749 - accuracy: 0.9009\n",
      "Epoch 4/10\n",
      "58/58 [==============================] - 10s 164ms/step - loss: 1.6014 - accuracy: 0.9217\n",
      "Epoch 5/10\n",
      "58/58 [==============================] - 10s 170ms/step - loss: 1.1527 - accuracy: 0.9381\n",
      "Epoch 6/10\n",
      "58/58 [==============================] - 10s 168ms/step - loss: 0.8211 - accuracy: 0.9475\n",
      "Epoch 7/10\n",
      "58/58 [==============================] - 10s 168ms/step - loss: 0.5479 - accuracy: 0.9661\n",
      "Epoch 8/10\n",
      "58/58 [==============================] - 10s 175ms/step - loss: 0.7350 - accuracy: 0.9573\n",
      "Epoch 9/10\n",
      "58/58 [==============================] - 10s 174ms/step - loss: 0.7365 - accuracy: 0.9639\n",
      "Epoch 10/10\n",
      "58/58 [==============================] - 10s 171ms/step - loss: 0.7314 - accuracy: 0.9677\n"
>>>>>>> Stashed changes
     ]
    },
    {
     "data": {
      "text/plain": [
<<<<<<< Updated upstream
       "<keras.callbacks.History at 0x1ae713dadd0>"
      ]
     },
     "execution_count": 8,
=======
       "<keras.callbacks.History at 0x1c134093760>"
      ]
     },
     "execution_count": 49,
>>>>>>> Stashed changes
     "metadata": {},
     "output_type": "execute_result"
    }
   ],
   "source": [
    "model.fit (dataset_train, epochs = 10, verbose = 1)"
   ]
  },
  {
   "cell_type": "code",
   "execution_count": null,
   "metadata": {},
   "outputs": [],
   "source": []
  }
 ],
 "metadata": {
  "kernelspec": {
   "display_name": "Python 3 (ipykernel)",
   "language": "python",
   "name": "python3"
  },
  "language_info": {
   "codemirror_mode": {
    "name": "ipython",
    "version": 3
   },
   "file_extension": ".py",
   "mimetype": "text/x-python",
   "name": "python",
   "nbconvert_exporter": "python",
   "pygments_lexer": "ipython3",
   "version": "3.10.7"
  }
 },
 "nbformat": 4,
 "nbformat_minor": 2
}
